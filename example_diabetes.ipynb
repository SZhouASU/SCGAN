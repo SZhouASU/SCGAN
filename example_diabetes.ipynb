import tensorflow as tf
# Disabling eager execution because Alibi is not compatible with it
tf.compat.v1.disable_eager_execution()
print(f"Is TensorFlow running in eager execution mode? -----→ {tf.executing_eagerly()}")
!nvidia-smi -L

BASE_PATH = "BASE_PATH"  #Your base path here

