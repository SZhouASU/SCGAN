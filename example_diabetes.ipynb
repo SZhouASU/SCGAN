import tensorflow as tf
# Disabling eager execution because Alibi is not compatible with it
tf.compat.v1.disable_eager_execution()
print(f"Is TensorFlow running in eager execution mode? -----→ {tf.executing_eagerly()}")
!nvidia-smi -L

BASE_PATH = "C:/Users/siqio/Code/Counterfactual"  

import os
from datetime import datetime

if not os.path.exists(BASE_PATH):
    os.makedirs(BASE_PATH)
os.chdir(BASE_PATH)

date = datetime.now().strftime('%Y-%m-%d')
EXPERIMENT_PATH = f"{BASE_PATH}/test_{date}"
MODELS_EXPERIMENT_PATH = f"{BASE_PATH}/test_2020-09-09"
if not os.path.exists(EXPERIMENT_PATH):
    os.makedirs(EXPERIMENT_PATH)
